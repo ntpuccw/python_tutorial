{
 "cells": [
  {
   "cell_type": "markdown",
   "metadata": {},
   "source": [
    "### Pandas array data processing"
   ]
  },
  {
   "cell_type": "code",
   "execution_count": 1,
   "metadata": {},
   "outputs": [],
   "source": [
    "import pandas as pd\n",
    "import numpy as np\n",
    "# import matplotlib.pylab as plt"
   ]
  },
  {
   "cell_type": "code",
   "execution_count": 95,
   "metadata": {},
   "outputs": [
    {
     "data": {
      "text/html": [
       "<div>\n",
       "<style scoped>\n",
       "    .dataframe tbody tr th:only-of-type {\n",
       "        vertical-align: middle;\n",
       "    }\n",
       "\n",
       "    .dataframe tbody tr th {\n",
       "        vertical-align: top;\n",
       "    }\n",
       "\n",
       "    .dataframe thead th {\n",
       "        text-align: right;\n",
       "    }\n",
       "</style>\n",
       "<table border=\"1\" class=\"dataframe\">\n",
       "  <thead>\n",
       "    <tr style=\"text-align: right;\">\n",
       "      <th></th>\n",
       "      <th>col1</th>\n",
       "      <th>col2</th>\n",
       "      <th>col3</th>\n",
       "      <th>col4</th>\n",
       "    </tr>\n",
       "  </thead>\n",
       "  <tbody>\n",
       "    <tr>\n",
       "      <th>0</th>\n",
       "      <td>61</td>\n",
       "      <td>62</td>\n",
       "      <td>64</td>\n",
       "      <td>65</td>\n",
       "    </tr>\n",
       "    <tr>\n",
       "      <th>1</th>\n",
       "      <td>1</td>\n",
       "      <td>2</td>\n",
       "      <td>3</td>\n",
       "      <td>4</td>\n",
       "    </tr>\n",
       "    <tr>\n",
       "      <th>2</th>\n",
       "      <td>5</td>\n",
       "      <td>6</td>\n",
       "      <td>7</td>\n",
       "      <td>8</td>\n",
       "    </tr>\n",
       "  </tbody>\n",
       "</table>\n",
       "</div>"
      ],
      "text/plain": [
       "   col1  col2  col3  col4\n",
       "0    61    62    64    65\n",
       "1     1     2     3     4\n",
       "2     5     6     7     8"
      ]
     },
     "execution_count": 95,
     "metadata": {},
     "output_type": "execute_result"
    }
   ],
   "source": [
    "A = [[1,2,3,4], [5,6,7,8], [9,10,11,12]]\n",
    "df = pd.DataFrame(A)\n",
    "df.columns = [\"col1\", \"col2\", \"col3\", \"col4\"]\n",
    "# df.index = [\"row1\", \"row2\", \"row3\"]\n",
    "#-- add columns --\n",
    "c1 = [91, 92, 93]\n",
    "c2 = [71, 72, 73]\n",
    "c3 = [51, 52, 53]\n",
    "c4 = [31, 32, 33]\n",
    "# df_c4 = pd.DataFrame(c4)\n",
    "# df_c4.columns = ['col7']\n",
    "# df_c4\n",
    "df = df.assign(col5 = c1)\n",
    "df.insert(2, 'new', c2)\n",
    "df['col6'] = c3\n",
    "# df = pd.concat([df, df_c4], axis=1)\n",
    "df\n",
    "#-- add rows --\n",
    "r1 = [81, 82, 83, 84, 85, 86, 87]\n",
    "df.loc[len(df)] = r1\n",
    "r2 = [61, 62, 63, 64, 65, 66, 67]\n",
    "df.loc[-0.5] = r2 # move to top\n",
    "df = df.sort_index().reset_index(drop=True)\n",
    "df.loc[1.5] = r2 \n",
    "df = df.sort_index().reset_index(drop=True)\n",
    "\n",
    "#-- delete columns --\n",
    "# df.drop(df.columns[[2, 6]],1,inplace=True)\n",
    "df.drop(['new', 'col6'], axis=1, inplace=True)\n",
    "# df.drop(['row3'], axis=0, inplace=True)\n",
    "df.drop(df.index[2], inplace=True)\n",
    "df = df.sort_index().reset_index(drop=True)\n",
    "df.loc[0:3]\n",
    "# df.col1\n",
    "df[[\"col2\", \"col3\"]].loc[0:3]\n",
    "df.iloc[0:3, 0:4]"
   ]
  },
  {
   "cell_type": "code",
   "execution_count": 109,
   "metadata": {},
   "outputs": [
    {
     "data": {
      "text/html": [
       "<div>\n",
       "<style scoped>\n",
       "    .dataframe tbody tr th:only-of-type {\n",
       "        vertical-align: middle;\n",
       "    }\n",
       "\n",
       "    .dataframe tbody tr th {\n",
       "        vertical-align: top;\n",
       "    }\n",
       "\n",
       "    .dataframe thead th {\n",
       "        text-align: right;\n",
       "    }\n",
       "</style>\n",
       "<table border=\"1\" class=\"dataframe\">\n",
       "  <thead>\n",
       "    <tr style=\"text-align: right;\">\n",
       "      <th></th>\n",
       "      <th>0</th>\n",
       "      <th>1</th>\n",
       "      <th>2</th>\n",
       "      <th>3</th>\n",
       "    </tr>\n",
       "  </thead>\n",
       "  <tbody>\n",
       "    <tr>\n",
       "      <th>0</th>\n",
       "      <td>1</td>\n",
       "      <td>2</td>\n",
       "      <td>3</td>\n",
       "      <td>4</td>\n",
       "    </tr>\n",
       "    <tr>\n",
       "      <th>1</th>\n",
       "      <td>5</td>\n",
       "      <td>6</td>\n",
       "      <td>7</td>\n",
       "      <td>8</td>\n",
       "    </tr>\n",
       "    <tr>\n",
       "      <th>2</th>\n",
       "      <td>9</td>\n",
       "      <td>10</td>\n",
       "      <td>11</td>\n",
       "      <td>12</td>\n",
       "    </tr>\n",
       "    <tr>\n",
       "      <th>3</th>\n",
       "      <td>1</td>\n",
       "      <td>3</td>\n",
       "      <td>5</td>\n",
       "      <td>7</td>\n",
       "    </tr>\n",
       "    <tr>\n",
       "      <th>4</th>\n",
       "      <td>2</td>\n",
       "      <td>4</td>\n",
       "      <td>6</td>\n",
       "      <td>8</td>\n",
       "    </tr>\n",
       "    <tr>\n",
       "      <th>5</th>\n",
       "      <td>12</td>\n",
       "      <td>11</td>\n",
       "      <td>10</td>\n",
       "      <td>9</td>\n",
       "    </tr>\n",
       "  </tbody>\n",
       "</table>\n",
       "</div>"
      ],
      "text/plain": [
       "    0   1   2   3\n",
       "0   1   2   3   4\n",
       "1   5   6   7   8\n",
       "2   9  10  11  12\n",
       "3   1   3   5   7\n",
       "4   2   4   6   8\n",
       "5  12  11  10   9"
      ]
     },
     "execution_count": 109,
     "metadata": {},
     "output_type": "execute_result"
    }
   ],
   "source": [
    "A = [[1,2,3,4], [5,6,7,8], [9,10,11,12]]\n",
    "df1 = pd.DataFrame(A)\n",
    "B= [[1,3,5,7], [2,4,6,8], [12,11,10,9]]\n",
    "df2 = pd.DataFrame(B)\n",
    "df = pd.concat([df1, df2], axis = 0, ignore_index=True) \n",
    "# df = df.sort_index().reset_index(drop=True)\n",
    "\n",
    "df.loc[0:5]\n",
    "# df"
   ]
  }
 ],
 "metadata": {
  "kernelspec": {
   "display_name": "Python 3.9.5 ('python_tutorial': venv)",
   "language": "python",
   "name": "python3"
  },
  "language_info": {
   "codemirror_mode": {
    "name": "ipython",
    "version": 3
   },
   "file_extension": ".py",
   "mimetype": "text/x-python",
   "name": "python",
   "nbconvert_exporter": "python",
   "pygments_lexer": "ipython3",
   "version": "3.9.5"
  },
  "orig_nbformat": 4,
  "vscode": {
   "interpreter": {
    "hash": "cc81c258f551af35f2b0e96d060e9c2e68e184a9f48b858072c878b75f31f655"
   }
  }
 },
 "nbformat": 4,
 "nbformat_minor": 2
}
